{
 "cells": [
  {
   "cell_type": "code",
   "execution_count": null,
   "id": "bound-shadow",
   "metadata": {},
   "outputs": [],
   "source": [
    "import numpy as np \n",
    "import pandas as pd\n",
    "from sklearn.preprocessing import StandardScaler\n",
    "from sklearn.metrics import roc_auc_score\n",
    "from sklearn.metrics import accuracy_score"
   ]
  },
  {
   "cell_type": "code",
   "execution_count": null,
   "id": "6f06a796",
   "metadata": {},
   "outputs": [],
   "source": [
    "df=pd.read_pickle('DigitalColposcopy.pkl')\n",
    "\n",
    "#Organizing Data\n",
    "title, x_training, x_test, y_training, y_test = df\n",
    "title = title[:-1]\n",
    "x_training = pd.DataFrame(x_training, columns=title)  #Transforming the train data and test data to a pd dataframe\n",
    "x_test = pd.DataFrame(x_test, columns=title)\n",
    "\n",
    "#Normalization of Data\n",
    "s = StandardScaler().fit(x_training)\n",
    "x_training_f = s.transform(x_training) \n",
    "x_test_f = s.transform(x_test)\n",
    "\n",
    "def sigmoid(x):\n",
    "    return 1/(1 + np.exp(-x))\n",
    "\n",
    "def LogisticReg(X_train, Y_train, X_test, Y_test, C, threshold=0.5, steps=20, learning_rate=0.0007):\n",
    "    X_train1 = X_train.shape[1]\n",
    "    weight = np.zeros(X_train1)\n",
    "    bias = 0 \n",
    "    \n",
    "    #Training the model  \n",
    "    for i in range(steps): \n",
    "        Z = np.dot(weight, X_train.T) + bias\n",
    "        prediction = sigmoid(Z)\n",
    "    \n",
    "     #Cost func. divertive \n",
    "        d_weight = np.dot( prediction-Y_train, X_train) + (2/C)*weight\n",
    "        d_bias = np.sum(prediction-Y_train)\n",
    "        \n",
    "     #Gradient descent\n",
    "        weight = weight - learning_rate*d_weight\n",
    "        bias = bias - learning_rate*d_bias\n",
    "        \n",
    "    #Testing the model:\n",
    "        Z_test = np.dot(weight, X_test.T) + bias\n",
    "        prediction_test = sigmoid(Z_test)\n",
    "        \n",
    "        prediction_f = prediction_test>threshold # if probbility is above 0.5 the prediction is true= 1 \n",
    "        prediction_f = np.array(prediction_f,dtype='float')\n",
    "        \n",
    "    #Accuracy and AUC:\n",
    "        accuracy = accuracy_score(Y_test, prediction_f)\n",
    "        AUC = roc_auc_score(Y_test, prediction_test) \n",
    "        print(\"After step\",i+1,\"the accuracy score is:\",round(accuracy*100,3),\"%\")\n",
    "        print(\"And the AUC is:\",round(AUC,3))                             \n",
    "    return weight, bias, accuracy, AUC"
   ]
  },
  {
   "cell_type": "code",
   "execution_count": null,
   "id": "4e208f2d",
   "metadata": {},
   "outputs": [],
   "source": [
    "weight, bias, accuracy, AUC = LogisticReg(x_training_f, y_training, x_test_f, y_test, C=1)"
   ]
  },
  {
   "cell_type": "code",
   "execution_count": null,
   "id": "53a732d2",
   "metadata": {},
   "outputs": [],
   "source": [
    "weight, bias, accuracy, AUC = LogisticReg(x_training_f, y_training, x_test_f, y_test, C=0.1)"
   ]
  },
  {
   "cell_type": "code",
   "execution_count": null,
   "id": "d0543fa4",
   "metadata": {},
   "outputs": [],
   "source": [
    "weight, bias, accuracy, AUC = LogisticReg(x_training_f, y_training, x_test_f, y_test, C=0.01)"
   ]
  },
  {
   "cell_type": "code",
   "execution_count": null,
   "id": "c88a5fcc",
   "metadata": {},
   "outputs": [],
   "source": [
    "weight, bias, accuracy, AUC = LogisticReg(x_training_f, y_training, x_test_f, y_test, C=0.001)"
   ]
  },
  {
   "cell_type": "code",
   "execution_count": null,
   "id": "deab08d8",
   "metadata": {},
   "outputs": [],
   "source": []
  }
 ],
 "metadata": {
  "kernelspec": {
   "display_name": "Python 3 (ipykernel)",
   "language": "python",
   "name": "python3"
  },
  "language_info": {
   "codemirror_mode": {
    "name": "ipython",
    "version": 3
   },
   "file_extension": ".py",
   "mimetype": "text/x-python",
   "name": "python",
   "nbconvert_exporter": "python",
   "pygments_lexer": "ipython3",
   "version": "3.9.7"
  }
 },
 "nbformat": 4,
 "nbformat_minor": 5
}
